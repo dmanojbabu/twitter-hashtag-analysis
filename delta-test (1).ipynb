{
	"metadata": {
		"kernelspec": {
			"name": "glue_pyspark",
			"display_name": "Glue PySpark",
			"language": "python"
		},
		"language_info": {
			"name": "Python_Glue_Session",
			"mimetype": "text/x-python",
			"codemirror_mode": {
				"name": "python",
				"version": 3
			},
			"pygments_lexer": "python3",
			"file_extension": ".py"
		}
	},
	"nbformat_minor": 5,
	"nbformat": 4,
	"cells": [
		{
			"cell_type": "code",
			"source": "%glue_version 3.0\n%idle_timeout 60\n%connections bi-deltalake-connector\n%%configure \n{\n  \"--conf\": \"spark.sql.extensions=io.delta.sql.DeltaSparkSessionExtension --conf spark.sql.catalog.spark_catalog=org.apache.spark.sql.delta.catalog.DeltaCatalog\",\n  #\"--extra-py-files\": \"/tmp/etl-delta-core_2.12-1.0.0.jar\" # for custom connector\n  \"--extra-py-files\": \"/tmp/delta-core_2.12-1.0.0.jar\" # for marketplace connector\n}",
			"metadata": {
				"trusted": true
			},
			"execution_count": 78,
			"outputs": [
				{
					"name": "stdout",
					"text": "Setting Glue version to: 3.0\nCurrent idle_timeout is 60 minutes.\nidle_timeout has been set to 60 minutes.\nConnections to be included:\nbi-deltalake-connector\nThe following configurations have been updated: {'--conf': 'spark.sql.extensions=io.delta.sql.DeltaSparkSessionExtension --conf spark.sql.catalog.spark_catalog=org.apache.spark.sql.delta.catalog.DeltaCatalog', '--extra-py-files': '/tmp/delta-core_2.12-1.0.0.jar'}\n",
					"output_type": "stream"
				}
			],
			"id": "1e90b576"
		},
		{
			"cell_type": "code",
			"source": "!ls -lrt /tmp",
			"metadata": {
				"trusted": true
			},
			"execution_count": 73,
			"outputs": [
				{
					"name": "stdout",
					"text": "total 2144\n-rw-r--r-- 1 root         root   29641 Sep 16 14:41 jupyter_lab_config.py\ndrwxr-xr-x 3 jupyter-user root    4096 Sep 16 14:47 npm-49-27268cf9\ndrwxr-xr-x 2 jupyter-user root    4096 Sep 16 14:48 yarn--1663339687276-0.6534362807951573\ndrwxr-xr-x 2 jupyter-user root    4096 Sep 16 14:48 yarn--1663339687276-0.0031633243502735553\n-rw-r--r-- 1 jupyter-user root     653 Sep 16 14:48 core-js-banners\ndrwxr-xr-x 2 jupyter-user root    4096 Sep 16 14:48 yarn--1663339688038-0.28055851563795686\ndrwxr-xr-x 2 jupyter-user root    4096 Sep 16 14:48 yarn--1663339691761-0.5388782314584746\ndrwxr-xr-x 3 jupyter-user root    4096 Sep 16 14:48 v8-compile-cache-10000\n-rw-r--r-- 1 jupyter-user root 2109245 Dec 14 17:06 delta-core_2.12-1.0.0.jar\n-rw-r--r-- 1 jupyter-user root   23044 Dec 14 17:19 Untitled.ipynb\n",
					"output_type": "stream"
				}
			],
			"id": "75a50b15-22cf-4a89-af34-db86e9238e03"
		},
		{
			"cell_type": "code",
			"source": "!curl -O --output-dir /tmp/  https://repo1.maven.org/maven2/io/delta/delta-core_2.12/1.0.0/delta-core_2.12-1.0.0.jar\n",
			"metadata": {
				"trusted": true
			},
			"execution_count": 55,
			"outputs": [
				{
					"name": "stdout",
					"text": "  % Total    % Received % Xferd  Average Speed   Time    Time     Time  Current\n                                 Dload  Upload   Total   Spent    Left  Speed\n100 2059k  100 2059k    0     0  35.3M      0 --:--:-- --:--:-- --:--:-- 35.9M\n",
					"output_type": "stream"
				}
			],
			"id": "d8ceae28-46de-413b-9c10-8eebc7fe06b1"
		},
		{
			"cell_type": "code",
			"source": "bucket_name = \"ecosia-bi-demo\"\nbucket_prefix = \"delta\"\ndatabase_name = \"demo\"\ntable_name = \"products\"\ntable_prefix = f\"{bucket_prefix}/{database_name}/{table_name}\"\ntable_location = f\"s3://{bucket_name}/{table_prefix}\"",
			"metadata": {
				"trusted": true
			},
			"execution_count": 7,
			"outputs": [
				{
					"name": "stdout",
					"text": "\n",
					"output_type": "stream"
				}
			],
			"id": "9a034a2e"
		},
		{
			"cell_type": "code",
			"source": "table_location",
			"metadata": {
				"trusted": true
			},
			"execution_count": 8,
			"outputs": [
				{
					"name": "stdout",
					"text": "'s3://ecosia-bi-demo/delta/demo/products'\n",
					"output_type": "stream"
				}
			],
			"id": "5658832e-0def-4d0f-a28e-8793b15c73aa"
		},
		{
			"cell_type": "code",
			"source": "table_prefix",
			"metadata": {
				"trusted": true
			},
			"execution_count": 9,
			"outputs": [
				{
					"name": "stdout",
					"text": "'delta/demo/products'\n",
					"output_type": "stream"
				}
			],
			"id": "4d566dc3-ea1b-42a3-b9c1-844ef0b5e4bc"
		},
		{
			"cell_type": "code",
			"source": "%status\t",
			"metadata": {
				"trusted": true
			},
			"execution_count": 80,
			"outputs": [
				{
					"name": "stdout",
					"text": "Session ID: 6a57a7b1-a135-40e4-9327-dddb8feab8c7\nStatus: READY\nDuration: 50.620792 seconds\nRole: arn:aws:iam::178965524635:role/service-role/AWSGlueServiceRole-AWSGlueBIEnrichRole\nCreatedOn: 2022-12-14 17:20:00.871000+00:00\nGlueVersion: 3.0\nWorker Type: G.1X\nNumber of Workers: 5\nRegion: eu-central-1\nConnections: ['bi-deltalake-connector']\nApplying the following default arguments:\n--glue_kernel_version 0.35\n--enable-glue-datacatalog true\n--conf spark.sql.extensions=io.delta.sql.DeltaSparkSessionExtension --conf spark.sql.catalog.spark_catalog=org.apache.spark.sql.delta.catalog.DeltaCatalog\n--extra-py-files /tmp/delta-core_2.12-1.0.0.jar\nArguments Passed: ['--glue_kernel_version: 0.35', '--enable-glue-datacatalog: true', '--conf: spark.sql.extensions=io.delta.sql.DeltaSparkSessionExtension --conf spark.sql.catalog.spark_catalog=org.apache.spark.sql.delta.catalog.DeltaCatalog', '--extra-py-files: /tmp/delta-core_2.12-1.0.0.jar']\n",
					"output_type": "stream"
				}
			],
			"id": "158eaee9-da12-4ec8-90b9-02bbf6b1a06e"
		},
		{
			"cell_type": "markdown",
			"source": "## Initialize SparkSession",
			"metadata": {},
			"id": "52f5b844"
		},
		{
			"cell_type": "code",
			"source": "from pyspark.sql import SparkSession\nspark.stop()\nspark = SparkSession.builder.getOrCreate()",
			"metadata": {
				"trusted": true
			},
			"execution_count": 10,
			"outputs": [
				{
					"name": "stdout",
					"text": "\n",
					"output_type": "stream"
				}
			],
			"id": "42f78b7b"
		},
		{
			"cell_type": "code",
			"source": "from pyspark.sql import Row\nimport time\n\nut = time.time()\n\nproduct = [\n    {'product_id': '00001', 'product_name': 'Heater', 'price': 250, 'category': 'Electronics', 'updated_at': ut},\n    {'product_id': '00002', 'product_name': 'Thermostat', 'price': 400, 'category': 'Electronics', 'updated_at': ut},\n    {'product_id': '00003', 'product_name': 'Television', 'price': 600, 'category': 'Electronics', 'updated_at': ut},\n    {'product_id': '00004', 'product_name': 'Blender', 'price': 100, 'category': 'Electronics', 'updated_at': ut},\n    {'product_id': '00005', 'product_name': 'USB charger', 'price': 50, 'category': 'Electronics', 'updated_at': ut}\n]\n\ndf_products = spark.createDataFrame(Row(**x) for x in product)",
			"metadata": {
				"trusted": true
			},
			"execution_count": 11,
			"outputs": [
				{
					"name": "stdout",
					"text": "\n",
					"output_type": "stream"
				}
			],
			"id": "f92942cb-3fb3-4950-9a57-6d1e23057e48"
		},
		{
			"cell_type": "code",
			"source": "df_products.show()",
			"metadata": {
				"trusted": true
			},
			"execution_count": 12,
			"outputs": [
				{
					"name": "stdout",
					"text": "+----------+------------+-----+-----------+--------------------+\n|product_id|product_name|price|   category|          updated_at|\n+----------+------------+-----+-----------+--------------------+\n|     00001|      Heater|  250|Electronics|1.6710388617707026E9|\n|     00002|  Thermostat|  400|Electronics|1.6710388617707026E9|\n|     00003|  Television|  600|Electronics|1.6710388617707026E9|\n|     00004|     Blender|  100|Electronics|1.6710388617707026E9|\n|     00005| USB charger|   50|Electronics|1.6710388617707026E9|\n+----------+------------+-----+-----------+--------------------+\n",
					"output_type": "stream"
				}
			],
			"id": "a70ba6f4-c7bb-4119-81d2-f7370cb7e242"
		},
		{
			"cell_type": "code",
			"source": "%%sql\nCREATE DATABASE demo LOCATION 's3://ecosia-bi-demo/delta/demo/';",
			"metadata": {
				"trusted": true
			},
			"execution_count": 13,
			"outputs": [
				{
					"name": "stdout",
					"text": "++\n||\n++\n++\n",
					"output_type": "stream"
				}
			],
			"id": "701af551-8995-468f-8a05-9d5e63e5cdb3"
		},
		{
			"cell_type": "code",
			"source": "df_products.write.format(\"delta\"). \\\n  mode(\"overwrite\"). \\\n  save(table_location)",
			"metadata": {
				"trusted": true
			},
			"execution_count": 14,
			"outputs": [
				{
					"name": "stdout",
					"text": "\n",
					"output_type": "stream"
				}
			],
			"id": "28a7a59c-2975-4934-9ff2-103d8b75ab34"
		},
		{
			"cell_type": "code",
			"source": "# create table in metastore\nquery = f\"\"\"\nCREATE TABLE {database_name}.{table_name}\nUSING delta\nLOCATION '{table_location}'\n\"\"\"\nspark.sql(query)",
			"metadata": {
				"trusted": true
			},
			"execution_count": 15,
			"outputs": [
				{
					"name": "stdout",
					"text": "DataFrame[]\n",
					"output_type": "stream"
				}
			],
			"id": "cddb8952-e055-42a3-9f07-16e8a4ee62f0"
		},
		{
			"cell_type": "code",
			"source": "%%sql\nUSE demo",
			"metadata": {
				"trusted": true
			},
			"execution_count": 16,
			"outputs": [
				{
					"name": "stdout",
					"text": "++\n||\n++\n++\n",
					"output_type": "stream"
				}
			],
			"id": "a9736c18"
		},
		{
			"cell_type": "code",
			"source": "%%sql\nSHOW TABLES",
			"metadata": {
				"trusted": true
			},
			"execution_count": 17,
			"outputs": [
				{
					"name": "stdout",
					"text": "+--------+---------+-----------+\n|database|tableName|isTemporary|\n+--------+---------+-----------+\n|    demo| products|      false|\n+--------+---------+-----------+\n",
					"output_type": "stream"
				}
			],
			"id": "ae6a7942"
		},
		{
			"cell_type": "markdown",
			"source": "## Read from Delta Lake table",
			"metadata": {},
			"id": "50a6e89e"
		},
		{
			"cell_type": "code",
			"source": "%%sql #Read table from metastore\nSELECT * FROM demo.products",
			"metadata": {
				"trusted": true
			},
			"execution_count": 18,
			"outputs": [
				{
					"name": "stdout",
					"text": "+----------+------------+-----+-----------+--------------------+\n|product_id|product_name|price|   category|          updated_at|\n+----------+------------+-----+-----------+--------------------+\n|     00005| USB charger|   50|Electronics|1.6710388617707026E9|\n|     00003|  Television|  600|Electronics|1.6710388617707026E9|\n|     00002|  Thermostat|  400|Electronics|1.6710388617707026E9|\n|     00004|     Blender|  100|Electronics|1.6710388617707026E9|\n|     00001|      Heater|  250|Electronics|1.6710388617707026E9|\n+----------+------------+-----+-----------+--------------------+\n",
					"output_type": "stream"
				}
			],
			"id": "47777845"
		},
		{
			"cell_type": "markdown",
			"source": "## Stop Session",
			"metadata": {},
			"id": "0c51d9c6"
		},
		{
			"cell_type": "code",
			"source": "%stop_session",
			"metadata": {
				"trusted": true
			},
			"execution_count": 71,
			"outputs": [
				{
					"name": "stdout",
					"text": "Stopping session: 6e616d08-0bca-4ea8-a9d7-7dbf82155733\nStopped session.\n",
					"output_type": "stream"
				}
			],
			"id": "f0b4eed8"
		},
		{
			"cell_type": "code",
			"source": "",
			"metadata": {},
			"execution_count": null,
			"outputs": [],
			"id": "04f12dd7-340a-43a9-a72b-5153b8d5f8b4"
		}
	]
}